{
 "cells": [
  {
   "cell_type": "markdown",
   "metadata": {},
   "source": [
    "Install Dependencies"
   ]
  },
  {
   "cell_type": "code",
   "execution_count": null,
   "metadata": {},
   "outputs": [],
   "source": [
    "%pip install gymnasium[box2d]"
   ]
  },
  {
   "cell_type": "code",
   "execution_count": null,
   "metadata": {},
   "outputs": [],
   "source": [
    "%pip install swig"
   ]
  },
  {
   "cell_type": "code",
   "execution_count": null,
   "metadata": {},
   "outputs": [],
   "source": [
    "%pip install stable-baselines3[extra]"
   ]
  },
  {
   "cell_type": "code",
   "execution_count": null,
   "metadata": {},
   "outputs": [],
   "source": [
    "%pip install torch torchvision torchaudio --index-url https://download.pytorch.org/whl/cu118"
   ]
  },
  {
   "cell_type": "markdown",
   "metadata": {},
   "source": [
    "Import Dependencies"
   ]
  },
  {
   "cell_type": "code",
   "execution_count": null,
   "metadata": {},
   "outputs": [],
   "source": [
    "import os\n",
    "import gymnasium\n",
    "from stable_baselines3.common.callbacks import BaseCallback\n",
    "from stable_baselines3 import DQN\n"
   ]
  },
  {
   "cell_type": "markdown",
   "metadata": {},
   "source": [
    "Constants"
   ]
  },
  {
   "cell_type": "code",
   "execution_count": null,
   "metadata": {},
   "outputs": [],
   "source": [
    "ENV_NAME = 'LunarLander-v2'\n",
    "ENV_RENDER_MODE = 'rgb_array'\n",
    "VEC_ENV_RENDER_MODE = 'human'\n",
    "\n",
    "CALLBACK_LOG_DIR = '\\logs\\\\lunar-lander'\n",
    "CALLBACK_CHECKPOINT_DIR = '\\models\\\\lunar-lander'\n",
    "CALLBACK_CHECK_FREQ = 10000\n",
    "CALLBACK_ON_TRAINING_MODEL = 'lunar_lander_v2_training_model'\n",
    "CALLBACK_ON_TRAINING_END = 'lunar_lander_v2_training_end_'\n",
    "\n",
    "VERBOSE = 1\n",
    "\n",
    "ALGORITHM_BEST_MODEL_NAME = 'lunar_lander_v2_best_model.zip'\n",
    "ALGORITHM_POLICY = 'MlpPolicy'\n",
    "ALGORITHM_DEVICE = 'cuda'\n",
    "ALGORITHM_TOTAL_TIMESTEPS = 1000000\n",
    "\n",
    "ALGORITHM_RENDER_MODEL = False\n",
    "ALGORITHM_RENDER_EPISODES = 10\n",
    "ALGORITHM_RENDER_STEPS = 10000\n",
    "ALGORITHM_PREDICT_DETERMINISTIC = False\n",
    "\n",
    "ALGORITHM_NEW_MODEL = True\n",
    "ALGORITHM_LOAD_MODEL = False\n",
    "\n",
    "\n",
    "MESSAGE_RENDERING_MODEL = 'RENDERING MODEL'\n",
    "MESSAGE_LOADING_MODEL = 'LOADING MODEL'\n",
    "MESSAGE_TRAINING_NEW_MODEL = 'NEW MODEL'\n"
   ]
  },
  {
   "cell_type": "markdown",
   "metadata": {},
   "source": [
    "Creating the Env"
   ]
  },
  {
   "cell_type": "code",
   "execution_count": null,
   "metadata": {},
   "outputs": [],
   "source": [
    "env = gymnasium.make(ENV_NAME, render_mode=ENV_RENDER_MODE)"
   ]
  },
  {
   "cell_type": "markdown",
   "metadata": {},
   "source": [
    "Creating Callback"
   ]
  },
  {
   "cell_type": "code",
   "execution_count": null,
   "metadata": {},
   "outputs": [],
   "source": [
    "class TrainAndLoggingCallback(BaseCallback):\n",
    "    def __init__(self, check_freq, save_path, verbose=VERBOSE):\n",
    "        super(TrainAndLoggingCallback, self).__init__(verbose)\n",
    "        self.check_freq = check_freq\n",
    "        self.save_path = save_path\n",
    "\n",
    "    def _init_callback(self):\n",
    "        if self.save_path is not None:\n",
    "            os.makedirs(self.save_path, exist_ok=True)\n",
    "    \n",
    "    def _on_step(self):\n",
    "        if self.n_calls % self.check_freq == 0:\n",
    "            model_path = os.path.join(self.save_path, CALLBACK_ON_TRAINING_MODEL)\n",
    "            self.model.save(model_path)\n",
    "\n",
    "        return True\n",
    "\n",
    "    def _on_training_end(self):\n",
    "        model_path = os.path.join(self.save_path, f'{CALLBACK_ON_TRAINING_END}_{ALGORITHM_TOTAL_TIMESTEPS}')\n",
    "        self.model.save(model_path)\n",
    "\n",
    "callback = TrainAndLoggingCallback(check_freq=CALLBACK_CHECK_FREQ, save_path=CALLBACK_CHECKPOINT_DIR)"
   ]
  },
  {
   "cell_type": "markdown",
   "metadata": {},
   "source": [
    "Loading, Training and Rendering"
   ]
  },
  {
   "cell_type": "code",
   "execution_count": null,
   "metadata": {},
   "outputs": [],
   "source": [
    "model = None\n",
    "\n",
    "if ALGORITHM_RENDER_MODEL is True:\n",
    "    print(MESSAGE_RENDERING_MODEL)\n",
    "    model = DQN.load(ALGORITHM_BEST_MODEL_NAME, env=env)\n",
    "    vec_env = model.get_env()\n",
    "\n",
    "    for ep in range(ALGORITHM_RENDER_EPISODES):\n",
    "        obs = vec_env.reset()\n",
    "        for step in range(ALGORITHM_RENDER_STEPS):\n",
    "            action, _ = model.predict(obs, deterministic=ALGORITHM_PREDICT_DETERMINISTIC)\n",
    "            obs, rewards, dones, info = vec_env.step(action)\n",
    "            vec_env.render(VEC_ENV_RENDER_MODE)\n",
    "    \n",
    "    env.close()\n",
    "\n",
    "elif ALGORITHM_LOAD_MODEL is True:\n",
    "    print(MESSAGE_LOADING_MODEL)\n",
    "    model = DQN.load(ALGORITHM_BEST_MODEL_NAME, env=env, device=ALGORITHM_DEVICE)\n",
    "    model.learn(total_timesteps=ALGORITHM_TOTAL_TIMESTEPS, callback=callback) \n",
    "\n",
    "elif ALGORITHM_NEW_MODEL is True:\n",
    "    print(MESSAGE_TRAINING_NEW_MODEL)\n",
    "    model = DQN(ALGORITHM_POLICY, env, tensorboard_log = CALLBACK_LOG_DIR, verbose=VERBOSE, device=ALGORITHM_DEVICE)\n",
    "    model.learn(total_timesteps=ALGORITHM_TOTAL_TIMESTEPS, callback=callback) "
   ]
  }
 ],
 "metadata": {
  "kernelspec": {
   "display_name": "Python 3",
   "language": "python",
   "name": "python3"
  },
  "language_info": {
   "codemirror_mode": {
    "name": "ipython",
    "version": 3
   },
   "file_extension": ".py",
   "mimetype": "text/x-python",
   "name": "python",
   "nbconvert_exporter": "python",
   "pygments_lexer": "ipython3",
   "version": "3.11.5"
  }
 },
 "nbformat": 4,
 "nbformat_minor": 2
}
