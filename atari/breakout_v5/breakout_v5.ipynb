{
 "cells": [
  {
   "cell_type": "markdown",
   "metadata": {},
   "source": [
    "Install Dependencies"
   ]
  },
  {
   "cell_type": "code",
   "execution_count": null,
   "metadata": {},
   "outputs": [],
   "source": [
    "%pip install gymnasium[accept-rom-license]"
   ]
  },
  {
   "cell_type": "code",
   "execution_count": null,
   "metadata": {},
   "outputs": [],
   "source": [
    "%pip install gymnasium[atari]"
   ]
  },
  {
   "cell_type": "code",
   "execution_count": null,
   "metadata": {},
   "outputs": [],
   "source": [
    "%pip install stable-baselines3[extra]"
   ]
  },
  {
   "cell_type": "code",
   "execution_count": null,
   "metadata": {},
   "outputs": [],
   "source": [
    "%pip install torch torchvision torchaudio --index-url https://download.pytorch.org/whl/cu118"
   ]
  },
  {
   "cell_type": "markdown",
   "metadata": {},
   "source": [
    "Import Dependencies"
   ]
  },
  {
   "cell_type": "code",
   "execution_count": null,
   "metadata": {},
   "outputs": [],
   "source": [
    "import os\n",
    "from stable_baselines3.common.callbacks import BaseCallback\n",
    "from stable_baselines3.common.env_util import make_atari_env\n",
    "from stable_baselines3.common.vec_env import VecFrameStack\n",
    "from stable_baselines3 import A2C\n"
   ]
  },
  {
   "cell_type": "markdown",
   "metadata": {},
   "source": [
    "Constants"
   ]
  },
  {
   "cell_type": "code",
   "execution_count": null,
   "metadata": {},
   "outputs": [],
   "source": [
    "ENV_NAME = 'ALE/Breakout-v5'\n",
    "ENV_N_STACKS = 9\n",
    "ENV_SEED = 0\n",
    "VEC_ENV_RENDER_MODE = 'human'\n",
    "\n",
    "CALLBACK_LOG_DIR = '\\logs\\\\breakout'\n",
    "CALLBACK_CHECKPOINT_DIR = '\\models\\\\breakout'\n",
    "CALLBACK_CHECK_FREQ = 10000\n",
    "CALLBACK_ON_TRAINING_MODEL = f'{ENV_N_STACKS}_stacks_breakout_v5_training_model'\n",
    "CALLBACK_ON_TRAINING_END = f'{ENV_N_STACKS}_stacks_breakout_v5_training_end_'\n",
    "\n",
    "VERBOSE = 1\n",
    "\n",
    "ALGORITHM_BEST_MODEL_NAME = f'{ENV_N_STACKS}_stacks_breakout_v5_best_model.zip'\n",
    "ALGORITHM_POLICY = 'CnnPolicy'\n",
    "ALGORITHM_DEVICE = 'cuda'\n",
    "ALGORITHM_TOTAL_TIMESTEPS = 1000000\n",
    "\n",
    "ALGORITHM_RENDER_MODEL = True\n",
    "ALGORITHM_RENDER_EPISODES = 10\n",
    "ALGORITHM_RENDER_STEPS = 1000\n",
    "ALGORITHM_PREDICT_DETERMINISTIC = True\n",
    "\n",
    "ALGORITHM_NEW_MODEL = False\n",
    "ALGORITHM_LOAD_MODEL = False\n",
    "\n",
    "MESSAGE_RENDERING_MODEL = 'RENDERING MODEL'\n",
    "MESSAGE_LOADING_MODEL = 'LOADING MODEL'\n",
    "MESSAGE_TRAINING_NEW_MODEL = 'NEW MODEL'\n"
   ]
  },
  {
   "cell_type": "markdown",
   "metadata": {},
   "source": [
    "Creating the Env"
   ]
  },
  {
   "cell_type": "code",
   "execution_count": null,
   "metadata": {},
   "outputs": [],
   "source": [
    "vec_env = make_atari_env(ENV_NAME, n_envs=ENV_N_STACKS, seed=ENV_SEED)\n",
    "env = VecFrameStack(vec_env, n_stack=ENV_N_STACKS)"
   ]
  },
  {
   "cell_type": "markdown",
   "metadata": {},
   "source": [
    "Creating Callback"
   ]
  },
  {
   "cell_type": "code",
   "execution_count": null,
   "metadata": {},
   "outputs": [],
   "source": [
    "class TrainAndLoggingCallback(BaseCallback):\n",
    "    def __init__(self, check_freq, save_path, verbose=VERBOSE):\n",
    "        super(TrainAndLoggingCallback, self).__init__(verbose)\n",
    "        self.check_freq = check_freq\n",
    "        self.save_path = save_path\n",
    "\n",
    "    def _init_callback(self):\n",
    "        if self.save_path is not None:\n",
    "            os.makedirs(self.save_path, exist_ok=True)\n",
    "    \n",
    "    def _on_step(self):\n",
    "        if self.n_calls % self.check_freq == 0:\n",
    "            model_path = os.path.join(self.save_path, CALLBACK_ON_TRAINING_MODEL)\n",
    "            self.model.save(model_path)\n",
    "\n",
    "        return True\n",
    "\n",
    "    def _on_training_end(self):\n",
    "        model_path = os.path.join(self.save_path, f'{CALLBACK_ON_TRAINING_END}_{ALGORITHM_TOTAL_TIMESTEPS}')\n",
    "        self.model.save(model_path)\n",
    "\n",
    "callback = TrainAndLoggingCallback(check_freq=CALLBACK_CHECK_FREQ, save_path=CALLBACK_CHECKPOINT_DIR)"
   ]
  },
  {
   "cell_type": "markdown",
   "metadata": {},
   "source": [
    "Loading, Training and Rendering"
   ]
  },
  {
   "cell_type": "code",
   "execution_count": null,
   "metadata": {},
   "outputs": [],
   "source": [
    "model = None\n",
    "\n",
    "if ALGORITHM_RENDER_MODEL is True:\n",
    "    print(MESSAGE_RENDERING_MODEL)\n",
    "    model = A2C.load(ALGORITHM_BEST_MODEL_NAME, env=env)\n",
    "    vec_env = model.get_env()\n",
    "\n",
    "    for ep in range(ALGORITHM_RENDER_EPISODES):\n",
    "        obs = vec_env.reset()\n",
    "        for step in range(ALGORITHM_RENDER_STEPS):\n",
    "            action, _ = model.predict(obs, deterministic=ALGORITHM_PREDICT_DETERMINISTIC)\n",
    "            obs, rewards, dones, info = vec_env.step(action)\n",
    "            vec_env.render(VEC_ENV_RENDER_MODE)\n",
    "    \n",
    "    env.close()\n",
    "\n",
    "elif ALGORITHM_LOAD_MODEL is True:\n",
    "    print(MESSAGE_LOADING_MODEL)\n",
    "    model = A2C.load(ALGORITHM_BEST_MODEL_NAME, env=env, device=ALGORITHM_DEVICE)\n",
    "    model.learn(total_timesteps=ALGORITHM_TOTAL_TIMESTEPS, callback=callback) \n",
    "\n",
    "elif ALGORITHM_NEW_MODEL is True:\n",
    "    print(MESSAGE_TRAINING_NEW_MODEL)\n",
    "    model = A2C(ALGORITHM_POLICY, env, tensorboard_log = CALLBACK_LOG_DIR, verbose=VERBOSE, device=ALGORITHM_DEVICE)\n",
    "    model.learn(total_timesteps=ALGORITHM_TOTAL_TIMESTEPS, callback=callback) "
   ]
  }
 ],
 "metadata": {
  "kernelspec": {
   "display_name": "Python 3",
   "language": "python",
   "name": "python3"
  },
  "language_info": {
   "codemirror_mode": {
    "name": "ipython",
    "version": 3
   },
   "file_extension": ".py",
   "mimetype": "text/x-python",
   "name": "python",
   "nbconvert_exporter": "python",
   "pygments_lexer": "ipython3",
   "version": "3.11.5"
  }
 },
 "nbformat": 4,
 "nbformat_minor": 2
}
