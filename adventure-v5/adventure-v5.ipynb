{
 "cells": [
  {
   "cell_type": "markdown",
   "metadata": {},
   "source": [
    "Install Dependencies"
   ]
  },
  {
   "cell_type": "code",
   "execution_count": null,
   "metadata": {},
   "outputs": [],
   "source": [
    "%pip install gymnasium[accept-rom-license]"
   ]
  },
  {
   "cell_type": "code",
   "execution_count": null,
   "metadata": {},
   "outputs": [],
   "source": [
    "%pip install gymnasium[atari]"
   ]
  },
  {
   "cell_type": "code",
   "execution_count": null,
   "metadata": {},
   "outputs": [],
   "source": [
    "%pip install stable-baselines3[extra]"
   ]
  },
  {
   "cell_type": "markdown",
   "metadata": {},
   "source": [
    "Import Dependencies"
   ]
  },
  {
   "cell_type": "code",
   "execution_count": null,
   "metadata": {},
   "outputs": [],
   "source": [
    "import os\n",
    "import gymnasium\n",
    "from stable_baselines3.common.callbacks import BaseCallback\n",
    "from stable_baselines3 import DQN\n"
   ]
  },
  {
   "cell_type": "markdown",
   "metadata": {},
   "source": [
    "Constants"
   ]
  },
  {
   "cell_type": "code",
   "execution_count": 1,
   "metadata": {},
   "outputs": [],
   "source": [
    "ENV_ADVENTURE = 'ALE/Adventure-v5'\n",
    "ENV_RENDER_MODE = 'human'\n",
    "\n",
    "CALLBACK_CHECKPOINT_DIR = './models/'\n",
    "CALLBACK_LOG_DIR = './logs/'\n",
    "CALLBACK_CHECK_FREQ = 10000\n",
    "\n",
    "VERBOSE = 1\n",
    "\n",
    "DQN_POLICY = 'MlpPolicy'\n",
    "DQN_BUFFER_SIZE = 20000\n",
    "DQN_LEARNING_STARTS = 200\n",
    "DQN_TOTAL_TIMESTEPS = 350000\n",
    "DQN_BEST_MODEL_PATH = 'best_model.zip'\n",
    "\n",
    "DQN_NEW_MODEL = False\n",
    "DQN_LOAD_MODEL = False\n",
    "DQN_RENDER_MODEL = False\n",
    "DQN_RENDER_EPISODES = 10"
   ]
  },
  {
   "cell_type": "markdown",
   "metadata": {},
   "source": [
    "Creating the Env"
   ]
  },
  {
   "cell_type": "code",
   "execution_count": null,
   "metadata": {},
   "outputs": [],
   "source": [
    "env = gymnasium.make(ENV_ADVENTURE, render_mode=ENV_RENDER_MODE) "
   ]
  },
  {
   "cell_type": "markdown",
   "metadata": {},
   "source": [
    "Creating Callback"
   ]
  },
  {
   "cell_type": "code",
   "execution_count": null,
   "metadata": {},
   "outputs": [],
   "source": [
    "class TrainAndLoggingCallback(BaseCallback):\n",
    "    def __init__(self, check_freq, save_path, verbose=VERBOSE):\n",
    "        super(TrainAndLoggingCallback, self).__init__(verbose)\n",
    "        self.check_freq = check_freq\n",
    "        self.save_path = save_path\n",
    "\n",
    "    def _init_callback(self):\n",
    "        if self.save_path is not None:\n",
    "            os.makedirs(self.save_path, exist_ok=True)\n",
    "    \n",
    "    def _on_step(self):\n",
    "        if self.n_calls % self.check_freq == 0:\n",
    "            model_path = os.path.join(self.save_path, '{}'.format(self.n_calls))\n",
    "            self.model.save(model_path)\n",
    "\n",
    "        return True\n",
    "\n",
    "callback = TrainAndLoggingCallback(check_freq=CALLBACK_CHECK_FREQ, save_path=CALLBACK_CHECKPOINT_DIR)"
   ]
  },
  {
   "cell_type": "markdown",
   "metadata": {},
   "source": [
    "Loading, Training and Rendering"
   ]
  },
  {
   "cell_type": "code",
   "execution_count": null,
   "metadata": {},
   "outputs": [],
   "source": [
    "model = None\n",
    "\n",
    "if DQN_NEW_MODEL is True:\n",
    "    model = DQN(DQN_POLICY, env, tensorboard_log = CALLBACK_LOG_DIR, verbose=VERBOSE, buffer_size=DQN_BUFFER_SIZE, learning_starts=DQN_LEARNING_STARTS)\n",
    "    model.learn(total_timesteps=DQN_TOTAL_TIMESTEPS, callback=callback) \n",
    "\n",
    "elif DQN_LOAD_MODEL is True:\n",
    "    model = DQN.load(DQN_BEST_MODEL_PATH, env=env)\n",
    "    model.learn(total_timesteps=DQN_TOTAL_TIMESTEPS, callback=callback) \n",
    "\n",
    "elif DQN_RENDER_MODEL is True:\n",
    "    model = DQN.load(DQN_BEST_MODEL_PATH, env=env)\n",
    "    for ep in range(DQN_RENDER_EPISODES):\n",
    "        obs = env.reset()\n",
    "        terminated  = False\n",
    "        truncated  = False\n",
    "        while not terminated or not truncated:\n",
    "            env.render()\n",
    "            obs, reward, terminated, truncated, info = env.step(env.action_space.sample())\n",
    "\n",
    "  "
   ]
  }
 ],
 "metadata": {
  "kernelspec": {
   "display_name": "Python 3",
   "language": "python",
   "name": "python3"
  },
  "language_info": {
   "codemirror_mode": {
    "name": "ipython",
    "version": 3
   },
   "file_extension": ".py",
   "mimetype": "text/x-python",
   "name": "python",
   "nbconvert_exporter": "python",
   "pygments_lexer": "ipython3",
   "version": "3.11.5"
  }
 },
 "nbformat": 4,
 "nbformat_minor": 2
}
