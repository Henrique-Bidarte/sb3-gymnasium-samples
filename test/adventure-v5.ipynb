{
 "cells": [
  {
   "cell_type": "markdown",
   "metadata": {},
   "source": [
    "Install Dependencies"
   ]
  },
  {
   "cell_type": "code",
   "execution_count": 1,
   "metadata": {},
   "outputs": [
    {
     "name": "stdout",
     "output_type": "stream",
     "text": [
      "Requirement already satisfied: gymnasium[accept-rom-license] in c:\\users\\henrique bidarte\\miniconda3\\lib\\site-packages (0.29.1)\n",
      "Requirement already satisfied: numpy>=1.21.0 in c:\\users\\henrique bidarte\\miniconda3\\lib\\site-packages (from gymnasium[accept-rom-license]) (1.24.3)\n",
      "Requirement already satisfied: cloudpickle>=1.2.0 in c:\\users\\henrique bidarte\\miniconda3\\lib\\site-packages (from gymnasium[accept-rom-license]) (3.0.0)\n",
      "Requirement already satisfied: typing-extensions>=4.3.0 in c:\\users\\henrique bidarte\\miniconda3\\lib\\site-packages (from gymnasium[accept-rom-license]) (4.5.0)\n",
      "Requirement already satisfied: farama-notifications>=0.0.1 in c:\\users\\henrique bidarte\\miniconda3\\lib\\site-packages (from gymnasium[accept-rom-license]) (0.0.4)\n",
      "Collecting autorom[accept-rom-license]~=0.4.2 (from gymnasium[accept-rom-license])\n",
      "  Using cached AutoROM-0.4.2-py3-none-any.whl (16 kB)\n",
      "Requirement already satisfied: click in c:\\users\\henrique bidarte\\miniconda3\\lib\\site-packages (from autorom[accept-rom-license]~=0.4.2->gymnasium[accept-rom-license]) (8.1.7)\n",
      "Requirement already satisfied: requests in c:\\users\\henrique bidarte\\miniconda3\\lib\\site-packages (from autorom[accept-rom-license]~=0.4.2->gymnasium[accept-rom-license]) (2.31.0)\n",
      "Requirement already satisfied: tqdm in c:\\users\\henrique bidarte\\miniconda3\\lib\\site-packages (from autorom[accept-rom-license]~=0.4.2->gymnasium[accept-rom-license]) (4.65.0)\n",
      "Requirement already satisfied: AutoROM.accept-rom-license in c:\\users\\henrique bidarte\\miniconda3\\lib\\site-packages (from autorom[accept-rom-license]~=0.4.2->gymnasium[accept-rom-license]) (0.6.1)\n",
      "Requirement already satisfied: colorama in c:\\users\\henrique bidarte\\appdata\\roaming\\python\\python311\\site-packages (from click->autorom[accept-rom-license]~=0.4.2->gymnasium[accept-rom-license]) (0.4.6)\n",
      "Requirement already satisfied: charset-normalizer<4,>=2 in c:\\users\\henrique bidarte\\miniconda3\\lib\\site-packages (from requests->autorom[accept-rom-license]~=0.4.2->gymnasium[accept-rom-license]) (2.0.4)\n",
      "Requirement already satisfied: idna<4,>=2.5 in c:\\users\\henrique bidarte\\miniconda3\\lib\\site-packages (from requests->autorom[accept-rom-license]~=0.4.2->gymnasium[accept-rom-license]) (3.4)\n",
      "Requirement already satisfied: urllib3<3,>=1.21.1 in c:\\users\\henrique bidarte\\miniconda3\\lib\\site-packages (from requests->autorom[accept-rom-license]~=0.4.2->gymnasium[accept-rom-license]) (1.26.18)\n",
      "Requirement already satisfied: certifi>=2017.4.17 in c:\\users\\henrique bidarte\\miniconda3\\lib\\site-packages (from requests->autorom[accept-rom-license]~=0.4.2->gymnasium[accept-rom-license]) (2023.7.22)\n",
      "Installing collected packages: autorom\n",
      "  Attempting uninstall: autorom\n",
      "    Found existing installation: AutoROM 0.6.1\n",
      "    Uninstalling AutoROM-0.6.1:\n",
      "      Successfully uninstalled AutoROM-0.6.1\n",
      "Successfully installed autorom-0.4.2\n",
      "Note: you may need to restart the kernel to use updated packages.\n"
     ]
    }
   ],
   "source": [
    "%pip install gymnasium[accept-rom-license]"
   ]
  },
  {
   "cell_type": "code",
   "execution_count": 2,
   "metadata": {},
   "outputs": [
    {
     "name": "stdout",
     "output_type": "stream",
     "text": [
      "Requirement already satisfied: gymnasium[atari] in c:\\users\\henrique bidarte\\miniconda3\\lib\\site-packages (0.29.1)\n",
      "Requirement already satisfied: numpy>=1.21.0 in c:\\users\\henrique bidarte\\miniconda3\\lib\\site-packages (from gymnasium[atari]) (1.24.3)\n",
      "Requirement already satisfied: cloudpickle>=1.2.0 in c:\\users\\henrique bidarte\\miniconda3\\lib\\site-packages (from gymnasium[atari]) (3.0.0)\n",
      "Requirement already satisfied: typing-extensions>=4.3.0 in c:\\users\\henrique bidarte\\miniconda3\\lib\\site-packages (from gymnasium[atari]) (4.5.0)\n",
      "Requirement already satisfied: farama-notifications>=0.0.1 in c:\\users\\henrique bidarte\\miniconda3\\lib\\site-packages (from gymnasium[atari]) (0.0.4)\n",
      "Collecting shimmy[atari]<1.0,>=0.1.0 (from gymnasium[atari])\n",
      "  Using cached Shimmy-0.2.1-py3-none-any.whl (25 kB)\n",
      "Requirement already satisfied: ale-py~=0.8.1 in c:\\users\\henrique bidarte\\miniconda3\\lib\\site-packages (from shimmy[atari]<1.0,>=0.1.0->gymnasium[atari]) (0.8.1)\n",
      "Requirement already satisfied: importlib-resources in c:\\users\\henrique bidarte\\miniconda3\\lib\\site-packages (from ale-py~=0.8.1->shimmy[atari]<1.0,>=0.1.0->gymnasium[atari]) (6.1.0)\n",
      "Installing collected packages: shimmy\n",
      "  Attempting uninstall: shimmy\n",
      "    Found existing installation: Shimmy 1.1.0\n",
      "    Uninstalling Shimmy-1.1.0:\n",
      "      Successfully uninstalled Shimmy-1.1.0\n",
      "Successfully installed shimmy-0.2.1\n",
      "Note: you may need to restart the kernel to use updated packages.\n"
     ]
    }
   ],
   "source": [
    "%pip install gymnasium[atari]"
   ]
  },
  {
   "cell_type": "code",
   "execution_count": 3,
   "metadata": {},
   "outputs": [
    {
     "name": "stdout",
     "output_type": "stream",
     "text": [
      "Requirement already satisfied: stable-baselines3[extra] in c:\\users\\henrique bidarte\\miniconda3\\lib\\site-packages (2.1.0)\n",
      "Requirement already satisfied: gymnasium<0.30,>=0.28.1 in c:\\users\\henrique bidarte\\miniconda3\\lib\\site-packages (from stable-baselines3[extra]) (0.29.1)\n",
      "Requirement already satisfied: numpy>=1.20 in c:\\users\\henrique bidarte\\miniconda3\\lib\\site-packages (from stable-baselines3[extra]) (1.24.3)\n",
      "Requirement already satisfied: torch>=1.13 in c:\\users\\henrique bidarte\\miniconda3\\lib\\site-packages (from stable-baselines3[extra]) (2.1.0+cu118)\n",
      "Requirement already satisfied: cloudpickle in c:\\users\\henrique bidarte\\miniconda3\\lib\\site-packages (from stable-baselines3[extra]) (3.0.0)\n",
      "Requirement already satisfied: pandas in c:\\users\\henrique bidarte\\miniconda3\\lib\\site-packages (from stable-baselines3[extra]) (2.1.2)\n",
      "Requirement already satisfied: matplotlib in c:\\users\\henrique bidarte\\miniconda3\\lib\\site-packages (from stable-baselines3[extra]) (3.8.0)\n",
      "Requirement already satisfied: opencv-python in c:\\users\\henrique bidarte\\miniconda3\\lib\\site-packages (from stable-baselines3[extra]) (4.8.1.78)\n",
      "Requirement already satisfied: pygame in c:\\users\\henrique bidarte\\miniconda3\\lib\\site-packages (from stable-baselines3[extra]) (2.5.2)\n",
      "Requirement already satisfied: tensorboard>=2.9.1 in c:\\users\\henrique bidarte\\miniconda3\\lib\\site-packages (from stable-baselines3[extra]) (2.13.0)\n",
      "Requirement already satisfied: psutil in c:\\users\\henrique bidarte\\appdata\\roaming\\python\\python311\\site-packages (from stable-baselines3[extra]) (5.9.5)\n",
      "Requirement already satisfied: tqdm in c:\\users\\henrique bidarte\\miniconda3\\lib\\site-packages (from stable-baselines3[extra]) (4.65.0)\n",
      "Requirement already satisfied: rich in c:\\users\\henrique bidarte\\miniconda3\\lib\\site-packages (from stable-baselines3[extra]) (13.6.0)\n",
      "Collecting shimmy[atari]~=1.1.0 (from stable-baselines3[extra])\n",
      "  Obtaining dependency information for shimmy[atari]~=1.1.0 from https://files.pythonhosted.org/packages/d5/fb/083e36bbcf325f6304bbeb2278b102c4ac8e87eb1ca771780f64decbb2f1/Shimmy-1.1.0-py3-none-any.whl.metadata\n",
      "  Using cached Shimmy-1.1.0-py3-none-any.whl.metadata (3.3 kB)\n",
      "Requirement already satisfied: pillow in c:\\users\\henrique bidarte\\miniconda3\\lib\\site-packages (from stable-baselines3[extra]) (10.1.0)\n",
      "Collecting autorom[accept-rom-license]~=0.6.1 (from stable-baselines3[extra])\n",
      "  Using cached AutoROM-0.6.1-py3-none-any.whl (9.4 kB)\n",
      "Requirement already satisfied: click in c:\\users\\henrique bidarte\\miniconda3\\lib\\site-packages (from autorom[accept-rom-license]~=0.6.1->stable-baselines3[extra]) (8.1.7)\n",
      "Requirement already satisfied: requests in c:\\users\\henrique bidarte\\miniconda3\\lib\\site-packages (from autorom[accept-rom-license]~=0.6.1->stable-baselines3[extra]) (2.31.0)\n",
      "Requirement already satisfied: AutoROM.accept-rom-license in c:\\users\\henrique bidarte\\miniconda3\\lib\\site-packages (from autorom[accept-rom-license]~=0.6.1->stable-baselines3[extra]) (0.6.1)\n",
      "Requirement already satisfied: typing-extensions>=4.3.0 in c:\\users\\henrique bidarte\\miniconda3\\lib\\site-packages (from gymnasium<0.30,>=0.28.1->stable-baselines3[extra]) (4.5.0)\n",
      "Requirement already satisfied: farama-notifications>=0.0.1 in c:\\users\\henrique bidarte\\miniconda3\\lib\\site-packages (from gymnasium<0.30,>=0.28.1->stable-baselines3[extra]) (0.0.4)\n",
      "Requirement already satisfied: ale-py~=0.8.1 in c:\\users\\henrique bidarte\\miniconda3\\lib\\site-packages (from shimmy[atari]~=1.1.0->stable-baselines3[extra]) (0.8.1)\n",
      "Requirement already satisfied: absl-py>=0.4 in c:\\users\\henrique bidarte\\miniconda3\\lib\\site-packages (from tensorboard>=2.9.1->stable-baselines3[extra]) (2.0.0)\n",
      "Requirement already satisfied: grpcio>=1.48.2 in c:\\users\\henrique bidarte\\miniconda3\\lib\\site-packages (from tensorboard>=2.9.1->stable-baselines3[extra]) (1.59.0)\n",
      "Requirement already satisfied: google-auth<3,>=1.6.3 in c:\\users\\henrique bidarte\\miniconda3\\lib\\site-packages (from tensorboard>=2.9.1->stable-baselines3[extra]) (2.23.3)\n",
      "Requirement already satisfied: google-auth-oauthlib<1.1,>=0.5 in c:\\users\\henrique bidarte\\miniconda3\\lib\\site-packages (from tensorboard>=2.9.1->stable-baselines3[extra]) (1.0.0)\n",
      "Requirement already satisfied: markdown>=2.6.8 in c:\\users\\henrique bidarte\\miniconda3\\lib\\site-packages (from tensorboard>=2.9.1->stable-baselines3[extra]) (3.5)\n",
      "Requirement already satisfied: protobuf>=3.19.6 in c:\\users\\henrique bidarte\\miniconda3\\lib\\site-packages (from tensorboard>=2.9.1->stable-baselines3[extra]) (4.23.4)\n",
      "Requirement already satisfied: setuptools>=41.0.0 in c:\\users\\henrique bidarte\\miniconda3\\lib\\site-packages (from tensorboard>=2.9.1->stable-baselines3[extra]) (68.2.2)\n",
      "Requirement already satisfied: tensorboard-data-server<0.8.0,>=0.7.0 in c:\\users\\henrique bidarte\\miniconda3\\lib\\site-packages (from tensorboard>=2.9.1->stable-baselines3[extra]) (0.7.2)\n",
      "Requirement already satisfied: werkzeug>=1.0.1 in c:\\users\\henrique bidarte\\miniconda3\\lib\\site-packages (from tensorboard>=2.9.1->stable-baselines3[extra]) (3.0.1)\n",
      "Requirement already satisfied: wheel>=0.26 in c:\\users\\henrique bidarte\\miniconda3\\lib\\site-packages (from tensorboard>=2.9.1->stable-baselines3[extra]) (0.41.2)\n",
      "Requirement already satisfied: filelock in c:\\users\\henrique bidarte\\miniconda3\\lib\\site-packages (from torch>=1.13->stable-baselines3[extra]) (3.13.0)\n",
      "Requirement already satisfied: sympy in c:\\users\\henrique bidarte\\miniconda3\\lib\\site-packages (from torch>=1.13->stable-baselines3[extra]) (1.12)\n",
      "Requirement already satisfied: networkx in c:\\users\\henrique bidarte\\miniconda3\\lib\\site-packages (from torch>=1.13->stable-baselines3[extra]) (3.2.1)\n",
      "Requirement already satisfied: jinja2 in c:\\users\\henrique bidarte\\miniconda3\\lib\\site-packages (from torch>=1.13->stable-baselines3[extra]) (3.1.2)\n",
      "Requirement already satisfied: fsspec in c:\\users\\henrique bidarte\\miniconda3\\lib\\site-packages (from torch>=1.13->stable-baselines3[extra]) (2023.10.0)\n",
      "Requirement already satisfied: contourpy>=1.0.1 in c:\\users\\henrique bidarte\\miniconda3\\lib\\site-packages (from matplotlib->stable-baselines3[extra]) (1.1.1)\n",
      "Requirement already satisfied: cycler>=0.10 in c:\\users\\henrique bidarte\\miniconda3\\lib\\site-packages (from matplotlib->stable-baselines3[extra]) (0.12.1)\n",
      "Requirement already satisfied: fonttools>=4.22.0 in c:\\users\\henrique bidarte\\miniconda3\\lib\\site-packages (from matplotlib->stable-baselines3[extra]) (4.43.1)\n",
      "Requirement already satisfied: kiwisolver>=1.0.1 in c:\\users\\henrique bidarte\\miniconda3\\lib\\site-packages (from matplotlib->stable-baselines3[extra]) (1.4.5)\n",
      "Requirement already satisfied: packaging>=20.0 in c:\\users\\henrique bidarte\\appdata\\roaming\\python\\python311\\site-packages (from matplotlib->stable-baselines3[extra]) (23.2)\n",
      "Requirement already satisfied: pyparsing>=2.3.1 in c:\\users\\henrique bidarte\\miniconda3\\lib\\site-packages (from matplotlib->stable-baselines3[extra]) (3.1.1)\n",
      "Requirement already satisfied: python-dateutil>=2.7 in c:\\users\\henrique bidarte\\appdata\\roaming\\python\\python311\\site-packages (from matplotlib->stable-baselines3[extra]) (2.8.2)\n",
      "Requirement already satisfied: pytz>=2020.1 in c:\\users\\henrique bidarte\\miniconda3\\lib\\site-packages (from pandas->stable-baselines3[extra]) (2023.3.post1)\n",
      "Requirement already satisfied: tzdata>=2022.1 in c:\\users\\henrique bidarte\\miniconda3\\lib\\site-packages (from pandas->stable-baselines3[extra]) (2023.3)\n",
      "Requirement already satisfied: markdown-it-py>=2.2.0 in c:\\users\\henrique bidarte\\miniconda3\\lib\\site-packages (from rich->stable-baselines3[extra]) (3.0.0)\n",
      "Requirement already satisfied: pygments<3.0.0,>=2.13.0 in c:\\users\\henrique bidarte\\appdata\\roaming\\python\\python311\\site-packages (from rich->stable-baselines3[extra]) (2.16.1)\n",
      "Requirement already satisfied: colorama in c:\\users\\henrique bidarte\\appdata\\roaming\\python\\python311\\site-packages (from tqdm->stable-baselines3[extra]) (0.4.6)\n",
      "Requirement already satisfied: importlib-resources in c:\\users\\henrique bidarte\\miniconda3\\lib\\site-packages (from ale-py~=0.8.1->shimmy[atari]~=1.1.0->stable-baselines3[extra]) (6.1.0)\n",
      "Requirement already satisfied: cachetools<6.0,>=2.0.0 in c:\\users\\henrique bidarte\\miniconda3\\lib\\site-packages (from google-auth<3,>=1.6.3->tensorboard>=2.9.1->stable-baselines3[extra]) (5.3.2)\n",
      "Requirement already satisfied: pyasn1-modules>=0.2.1 in c:\\users\\henrique bidarte\\miniconda3\\lib\\site-packages (from google-auth<3,>=1.6.3->tensorboard>=2.9.1->stable-baselines3[extra]) (0.3.0)\n",
      "Requirement already satisfied: rsa<5,>=3.1.4 in c:\\users\\henrique bidarte\\miniconda3\\lib\\site-packages (from google-auth<3,>=1.6.3->tensorboard>=2.9.1->stable-baselines3[extra]) (4.9)\n",
      "Requirement already satisfied: requests-oauthlib>=0.7.0 in c:\\users\\henrique bidarte\\miniconda3\\lib\\site-packages (from google-auth-oauthlib<1.1,>=0.5->tensorboard>=2.9.1->stable-baselines3[extra]) (1.3.1)\n",
      "Requirement already satisfied: mdurl~=0.1 in c:\\users\\henrique bidarte\\miniconda3\\lib\\site-packages (from markdown-it-py>=2.2.0->rich->stable-baselines3[extra]) (0.1.2)\n",
      "Requirement already satisfied: six>=1.5 in c:\\users\\henrique bidarte\\appdata\\roaming\\python\\python311\\site-packages (from python-dateutil>=2.7->matplotlib->stable-baselines3[extra]) (1.16.0)\n",
      "Requirement already satisfied: charset-normalizer<4,>=2 in c:\\users\\henrique bidarte\\miniconda3\\lib\\site-packages (from requests->autorom[accept-rom-license]~=0.6.1->stable-baselines3[extra]) (2.0.4)\n",
      "Requirement already satisfied: idna<4,>=2.5 in c:\\users\\henrique bidarte\\miniconda3\\lib\\site-packages (from requests->autorom[accept-rom-license]~=0.6.1->stable-baselines3[extra]) (3.4)\n",
      "Requirement already satisfied: urllib3<3,>=1.21.1 in c:\\users\\henrique bidarte\\miniconda3\\lib\\site-packages (from requests->autorom[accept-rom-license]~=0.6.1->stable-baselines3[extra]) (1.26.18)\n",
      "Requirement already satisfied: certifi>=2017.4.17 in c:\\users\\henrique bidarte\\miniconda3\\lib\\site-packages (from requests->autorom[accept-rom-license]~=0.6.1->stable-baselines3[extra]) (2023.7.22)\n",
      "Requirement already satisfied: MarkupSafe>=2.1.1 in c:\\users\\henrique bidarte\\miniconda3\\lib\\site-packages (from werkzeug>=1.0.1->tensorboard>=2.9.1->stable-baselines3[extra]) (2.1.3)\n",
      "Requirement already satisfied: mpmath>=0.19 in c:\\users\\henrique bidarte\\miniconda3\\lib\\site-packages (from sympy->torch>=1.13->stable-baselines3[extra]) (1.3.0)\n",
      "Requirement already satisfied: pyasn1<0.6.0,>=0.4.6 in c:\\users\\henrique bidarte\\miniconda3\\lib\\site-packages (from pyasn1-modules>=0.2.1->google-auth<3,>=1.6.3->tensorboard>=2.9.1->stable-baselines3[extra]) (0.5.0)\n",
      "Requirement already satisfied: oauthlib>=3.0.0 in c:\\users\\henrique bidarte\\miniconda3\\lib\\site-packages (from requests-oauthlib>=0.7.0->google-auth-oauthlib<1.1,>=0.5->tensorboard>=2.9.1->stable-baselines3[extra]) (3.2.2)\n",
      "Using cached Shimmy-1.1.0-py3-none-any.whl (37 kB)\n",
      "Installing collected packages: shimmy, autorom\n",
      "  Attempting uninstall: shimmy\n",
      "    Found existing installation: Shimmy 0.2.1\n",
      "    Uninstalling Shimmy-0.2.1:\n",
      "      Successfully uninstalled Shimmy-0.2.1\n",
      "  Attempting uninstall: autorom\n",
      "    Found existing installation: AutoROM 0.4.2\n",
      "    Uninstalling AutoROM-0.4.2:\n",
      "      Successfully uninstalled AutoROM-0.4.2\n",
      "Successfully installed autorom-0.6.1 shimmy-1.1.0\n",
      "Note: you may need to restart the kernel to use updated packages.\n"
     ]
    }
   ],
   "source": [
    "%pip install stable-baselines3[extra]"
   ]
  },
  {
   "cell_type": "code",
   "execution_count": 4,
   "metadata": {},
   "outputs": [
    {
     "name": "stdout",
     "output_type": "stream",
     "text": [
      "Looking in indexes: https://download.pytorch.org/whl/cu118\n",
      "Requirement already satisfied: torch in c:\\users\\henrique bidarte\\miniconda3\\lib\\site-packages (2.1.0+cu118)\n",
      "Requirement already satisfied: torchvision in c:\\users\\henrique bidarte\\miniconda3\\lib\\site-packages (0.16.0+cu118)\n",
      "Requirement already satisfied: torchaudio in c:\\users\\henrique bidarte\\miniconda3\\lib\\site-packages (2.1.0+cu118)\n",
      "Requirement already satisfied: filelock in c:\\users\\henrique bidarte\\miniconda3\\lib\\site-packages (from torch) (3.13.0)\n",
      "Requirement already satisfied: typing-extensions in c:\\users\\henrique bidarte\\miniconda3\\lib\\site-packages (from torch) (4.5.0)\n",
      "Requirement already satisfied: sympy in c:\\users\\henrique bidarte\\miniconda3\\lib\\site-packages (from torch) (1.12)\n",
      "Requirement already satisfied: networkx in c:\\users\\henrique bidarte\\miniconda3\\lib\\site-packages (from torch) (3.2.1)\n",
      "Requirement already satisfied: jinja2 in c:\\users\\henrique bidarte\\miniconda3\\lib\\site-packages (from torch) (3.1.2)\n",
      "Requirement already satisfied: fsspec in c:\\users\\henrique bidarte\\miniconda3\\lib\\site-packages (from torch) (2023.10.0)\n",
      "Requirement already satisfied: numpy in c:\\users\\henrique bidarte\\miniconda3\\lib\\site-packages (from torchvision) (1.24.3)\n",
      "Requirement already satisfied: requests in c:\\users\\henrique bidarte\\miniconda3\\lib\\site-packages (from torchvision) (2.31.0)\n",
      "Requirement already satisfied: pillow!=8.3.*,>=5.3.0 in c:\\users\\henrique bidarte\\miniconda3\\lib\\site-packages (from torchvision) (10.1.0)\n",
      "Requirement already satisfied: MarkupSafe>=2.0 in c:\\users\\henrique bidarte\\miniconda3\\lib\\site-packages (from jinja2->torch) (2.1.3)\n",
      "Requirement already satisfied: charset-normalizer<4,>=2 in c:\\users\\henrique bidarte\\miniconda3\\lib\\site-packages (from requests->torchvision) (2.0.4)\n",
      "Requirement already satisfied: idna<4,>=2.5 in c:\\users\\henrique bidarte\\miniconda3\\lib\\site-packages (from requests->torchvision) (3.4)\n",
      "Requirement already satisfied: urllib3<3,>=1.21.1 in c:\\users\\henrique bidarte\\miniconda3\\lib\\site-packages (from requests->torchvision) (1.26.18)\n",
      "Requirement already satisfied: certifi>=2017.4.17 in c:\\users\\henrique bidarte\\miniconda3\\lib\\site-packages (from requests->torchvision) (2023.7.22)\n",
      "Requirement already satisfied: mpmath>=0.19 in c:\\users\\henrique bidarte\\miniconda3\\lib\\site-packages (from sympy->torch) (1.3.0)\n",
      "Note: you may need to restart the kernel to use updated packages.\n"
     ]
    }
   ],
   "source": [
    "%pip install torch torchvision torchaudio --index-url https://download.pytorch.org/whl/cu118"
   ]
  },
  {
   "cell_type": "markdown",
   "metadata": {},
   "source": [
    "Import Dependencies"
   ]
  },
  {
   "cell_type": "code",
   "execution_count": 5,
   "metadata": {},
   "outputs": [],
   "source": [
    "import os\n",
    "from stable_baselines3.common.callbacks import BaseCallback\n",
    "from stable_baselines3.common.env_util import make_atari_env\n",
    "from stable_baselines3.common.vec_env import VecFrameStack\n",
    "from stable_baselines3 import A2C\n"
   ]
  },
  {
   "cell_type": "markdown",
   "metadata": {},
   "source": [
    "Constants"
   ]
  },
  {
   "cell_type": "code",
   "execution_count": 18,
   "metadata": {},
   "outputs": [],
   "source": [
    "ENV_NAME = 'ALE/Adventure-v5'\n",
    "ENV_N_STACKS = 9\n",
    "ENV_SEED = 0\n",
    "ENV_RENDER_MODE = 'human'\n",
    "\n",
    "CALLBACK_CURRENT_DIR = os.getcwd()\n",
    "CALLBACK_CHECKPOINT_DIR = f'{CALLBACK_CURRENT_DIR}\\models'\n",
    "CALLBACK_LOG_DIR = f'{CALLBACK_CURRENT_DIR}\\logs'\n",
    "CALLBACK_CHECK_FREQ = 10000\n",
    "\n",
    "VERBOSE = 1\n",
    "\n",
    "ALGORITHM_BEST_MODEL_NAME = 'best_model.zip'\n",
    "ALGORITHM_POLICY = 'CnnPolicy'\n",
    "ALGORITHM_DEVICE = 'cuda'\n",
    "ALGORITHM_TOTAL_TIMESTEPS = 1000\n",
    "\n",
    "ALGORITHM_LOAD_MODEL = False\n",
    "ALGORITHM_NEW_MODEL = True\n",
    "ALGORITHM_RENDER_MODEL = False\n",
    "ALGORITHM_RENDER_EPISODES = 10\n",
    "\n",
    "MESSAGE_RENDERING_MODEL = 'RENDERING MODEL'\n",
    "MESSAGE_LOADING_MODEL = 'LOADING MODEL'\n",
    "MESSAGE_TRAINING_NEW_MODEL = 'NEW MODEL'\n"
   ]
  },
  {
   "cell_type": "markdown",
   "metadata": {},
   "source": [
    "Creating the Env"
   ]
  },
  {
   "cell_type": "code",
   "execution_count": 7,
   "metadata": {},
   "outputs": [],
   "source": [
    "vec_env = make_atari_env(ENV_NAME, n_envs=ENV_N_STACKS, seed=ENV_SEED)\n",
    "vec_env = VecFrameStack(vec_env, n_stack=ENV_N_STACKS)"
   ]
  },
  {
   "cell_type": "markdown",
   "metadata": {},
   "source": [
    "Creating Callback"
   ]
  },
  {
   "cell_type": "code",
   "execution_count": 8,
   "metadata": {},
   "outputs": [],
   "source": [
    "class TrainAndLoggingCallback(BaseCallback):\n",
    "    def __init__(self, check_freq, save_path, verbose=VERBOSE):\n",
    "        super(TrainAndLoggingCallback, self).__init__(verbose)\n",
    "        self.check_freq = check_freq\n",
    "        self.save_path = save_path\n",
    "\n",
    "    def _init_callback(self):\n",
    "        if self.save_path is not None:\n",
    "            os.makedirs(self.save_path, exist_ok=True)\n",
    "    \n",
    "    def _on_step(self):\n",
    "        if self.n_calls % self.check_freq == 0:\n",
    "            model_path = os.path.join(self.save_path, '{}'.format(self.n_calls))\n",
    "            self.model.save(model_path)\n",
    "\n",
    "        return True\n",
    "\n",
    "callback = TrainAndLoggingCallback(check_freq=CALLBACK_CHECK_FREQ, save_path=CALLBACK_CHECKPOINT_DIR)"
   ]
  },
  {
   "cell_type": "markdown",
   "metadata": {},
   "source": [
    "Loading, Training and Rendering"
   ]
  },
  {
   "cell_type": "code",
   "execution_count": 19,
   "metadata": {},
   "outputs": [
    {
     "name": "stdout",
     "output_type": "stream",
     "text": [
      "NEW MODEL\n",
      "Using cuda device\n",
      "Wrapping the env in a VecTransposeImage.\n"
     ]
    },
    {
     "ename": "FailedPreconditionError",
     "evalue": "c:\\Users\\Henrique Bidarte\\Documents\\Henrique\\Programação\\git\\sb3-gymnasium-samples\\test\\logs\\A2C_1 is not a directory",
     "output_type": "error",
     "traceback": [
      "\u001b[1;31m---------------------------------------------------------------------------\u001b[0m",
      "\u001b[1;31mFailedPreconditionError\u001b[0m                   Traceback (most recent call last)",
      "\u001b[1;32mc:\\Users\\Henrique Bidarte\\Documents\\Henrique\\Programação\\git\\sb3-gymnasium-samples\\test\\adventure-v5.ipynb Cell 15\u001b[0m line \u001b[0;36m2\n\u001b[0;32m     <a href='vscode-notebook-cell:/c%3A/Users/Henrique%20Bidarte/Documents/Henrique/Programa%C3%A7%C3%A3o/git/sb3-gymnasium-samples/test/adventure-v5.ipynb#X20sZmlsZQ%3D%3D?line=22'>23</a>\u001b[0m \u001b[39mprint\u001b[39m(MESSAGE_TRAINING_NEW_MODEL)\n\u001b[0;32m     <a href='vscode-notebook-cell:/c%3A/Users/Henrique%20Bidarte/Documents/Henrique/Programa%C3%A7%C3%A3o/git/sb3-gymnasium-samples/test/adventure-v5.ipynb#X20sZmlsZQ%3D%3D?line=23'>24</a>\u001b[0m model \u001b[39m=\u001b[39m A2C(ALGORITHM_POLICY, vec_env, tensorboard_log \u001b[39m=\u001b[39m CALLBACK_LOG_DIR, verbose\u001b[39m=\u001b[39mVERBOSE, device\u001b[39m=\u001b[39mALGORITHM_DEVICE)\n\u001b[1;32m---> <a href='vscode-notebook-cell:/c%3A/Users/Henrique%20Bidarte/Documents/Henrique/Programa%C3%A7%C3%A3o/git/sb3-gymnasium-samples/test/adventure-v5.ipynb#X20sZmlsZQ%3D%3D?line=24'>25</a>\u001b[0m model\u001b[39m.\u001b[39;49mlearn(total_timesteps\u001b[39m=\u001b[39;49mALGORITHM_TOTAL_TIMESTEPS, callback\u001b[39m=\u001b[39;49mcallback) \n",
      "File \u001b[1;32mc:\\Users\\Henrique Bidarte\\miniconda3\\Lib\\site-packages\\stable_baselines3\\a2c\\a2c.py:194\u001b[0m, in \u001b[0;36mA2C.learn\u001b[1;34m(self, total_timesteps, callback, log_interval, tb_log_name, reset_num_timesteps, progress_bar)\u001b[0m\n\u001b[0;32m    185\u001b[0m \u001b[39mdef\u001b[39;00m \u001b[39mlearn\u001b[39m(\n\u001b[0;32m    186\u001b[0m     \u001b[39mself\u001b[39m: SelfA2C,\n\u001b[0;32m    187\u001b[0m     total_timesteps: \u001b[39mint\u001b[39m,\n\u001b[1;32m   (...)\u001b[0m\n\u001b[0;32m    192\u001b[0m     progress_bar: \u001b[39mbool\u001b[39m \u001b[39m=\u001b[39m \u001b[39mFalse\u001b[39;00m,\n\u001b[0;32m    193\u001b[0m ) \u001b[39m-\u001b[39m\u001b[39m>\u001b[39m SelfA2C:\n\u001b[1;32m--> 194\u001b[0m     \u001b[39mreturn\u001b[39;00m \u001b[39msuper\u001b[39;49m()\u001b[39m.\u001b[39;49mlearn(\n\u001b[0;32m    195\u001b[0m         total_timesteps\u001b[39m=\u001b[39;49mtotal_timesteps,\n\u001b[0;32m    196\u001b[0m         callback\u001b[39m=\u001b[39;49mcallback,\n\u001b[0;32m    197\u001b[0m         log_interval\u001b[39m=\u001b[39;49mlog_interval,\n\u001b[0;32m    198\u001b[0m         tb_log_name\u001b[39m=\u001b[39;49mtb_log_name,\n\u001b[0;32m    199\u001b[0m         reset_num_timesteps\u001b[39m=\u001b[39;49mreset_num_timesteps,\n\u001b[0;32m    200\u001b[0m         progress_bar\u001b[39m=\u001b[39;49mprogress_bar,\n\u001b[0;32m    201\u001b[0m     )\n",
      "File \u001b[1;32mc:\\Users\\Henrique Bidarte\\miniconda3\\Lib\\site-packages\\stable_baselines3\\common\\on_policy_algorithm.py:246\u001b[0m, in \u001b[0;36mOnPolicyAlgorithm.learn\u001b[1;34m(self, total_timesteps, callback, log_interval, tb_log_name, reset_num_timesteps, progress_bar)\u001b[0m\n\u001b[0;32m    235\u001b[0m \u001b[39mdef\u001b[39;00m \u001b[39mlearn\u001b[39m(\n\u001b[0;32m    236\u001b[0m     \u001b[39mself\u001b[39m: SelfOnPolicyAlgorithm,\n\u001b[0;32m    237\u001b[0m     total_timesteps: \u001b[39mint\u001b[39m,\n\u001b[1;32m   (...)\u001b[0m\n\u001b[0;32m    242\u001b[0m     progress_bar: \u001b[39mbool\u001b[39m \u001b[39m=\u001b[39m \u001b[39mFalse\u001b[39;00m,\n\u001b[0;32m    243\u001b[0m ) \u001b[39m-\u001b[39m\u001b[39m>\u001b[39m SelfOnPolicyAlgorithm:\n\u001b[0;32m    244\u001b[0m     iteration \u001b[39m=\u001b[39m \u001b[39m0\u001b[39m\n\u001b[1;32m--> 246\u001b[0m     total_timesteps, callback \u001b[39m=\u001b[39m \u001b[39mself\u001b[39;49m\u001b[39m.\u001b[39;49m_setup_learn(\n\u001b[0;32m    247\u001b[0m         total_timesteps,\n\u001b[0;32m    248\u001b[0m         callback,\n\u001b[0;32m    249\u001b[0m         reset_num_timesteps,\n\u001b[0;32m    250\u001b[0m         tb_log_name,\n\u001b[0;32m    251\u001b[0m         progress_bar,\n\u001b[0;32m    252\u001b[0m     )\n\u001b[0;32m    254\u001b[0m     callback\u001b[39m.\u001b[39mon_training_start(\u001b[39mlocals\u001b[39m(), \u001b[39mglobals\u001b[39m())\n\u001b[0;32m    256\u001b[0m     \u001b[39massert\u001b[39;00m \u001b[39mself\u001b[39m\u001b[39m.\u001b[39menv \u001b[39mis\u001b[39;00m \u001b[39mnot\u001b[39;00m \u001b[39mNone\u001b[39;00m\n",
      "File \u001b[1;32mc:\\Users\\Henrique Bidarte\\miniconda3\\Lib\\site-packages\\stable_baselines3\\common\\base_class.py:433\u001b[0m, in \u001b[0;36mBaseAlgorithm._setup_learn\u001b[1;34m(self, total_timesteps, callback, reset_num_timesteps, tb_log_name, progress_bar)\u001b[0m\n\u001b[0;32m    431\u001b[0m \u001b[39m# Configure logger's outputs if no logger was passed\u001b[39;00m\n\u001b[0;32m    432\u001b[0m \u001b[39mif\u001b[39;00m \u001b[39mnot\u001b[39;00m \u001b[39mself\u001b[39m\u001b[39m.\u001b[39m_custom_logger:\n\u001b[1;32m--> 433\u001b[0m     \u001b[39mself\u001b[39m\u001b[39m.\u001b[39m_logger \u001b[39m=\u001b[39m utils\u001b[39m.\u001b[39;49mconfigure_logger(\u001b[39mself\u001b[39;49m\u001b[39m.\u001b[39;49mverbose, \u001b[39mself\u001b[39;49m\u001b[39m.\u001b[39;49mtensorboard_log, tb_log_name, reset_num_timesteps)\n\u001b[0;32m    435\u001b[0m \u001b[39m# Create eval callback if needed\u001b[39;00m\n\u001b[0;32m    436\u001b[0m callback \u001b[39m=\u001b[39m \u001b[39mself\u001b[39m\u001b[39m.\u001b[39m_init_callback(callback, progress_bar)\n",
      "File \u001b[1;32mc:\\Users\\Henrique Bidarte\\miniconda3\\Lib\\site-packages\\stable_baselines3\\common\\utils.py:213\u001b[0m, in \u001b[0;36mconfigure_logger\u001b[1;34m(verbose, tensorboard_log, tb_log_name, reset_num_timesteps)\u001b[0m\n\u001b[0;32m    211\u001b[0m \u001b[39melif\u001b[39;00m verbose \u001b[39m==\u001b[39m \u001b[39m0\u001b[39m:\n\u001b[0;32m    212\u001b[0m     format_strings \u001b[39m=\u001b[39m [\u001b[39m\"\u001b[39m\u001b[39m\"\u001b[39m]\n\u001b[1;32m--> 213\u001b[0m \u001b[39mreturn\u001b[39;00m configure(save_path, format_strings\u001b[39m=\u001b[39;49mformat_strings)\n",
      "File \u001b[1;32mc:\\Users\\Henrique Bidarte\\miniconda3\\Lib\\site-packages\\stable_baselines3\\common\\logger.py:659\u001b[0m, in \u001b[0;36mconfigure\u001b[1;34m(folder, format_strings)\u001b[0m\n\u001b[0;32m    656\u001b[0m     format_strings \u001b[39m=\u001b[39m os\u001b[39m.\u001b[39mgetenv(\u001b[39m\"\u001b[39m\u001b[39mSB3_LOG_FORMAT\u001b[39m\u001b[39m\"\u001b[39m, \u001b[39m\"\u001b[39m\u001b[39mstdout,log,csv\u001b[39m\u001b[39m\"\u001b[39m)\u001b[39m.\u001b[39msplit(\u001b[39m\"\u001b[39m\u001b[39m,\u001b[39m\u001b[39m\"\u001b[39m)\n\u001b[0;32m    658\u001b[0m format_strings \u001b[39m=\u001b[39m \u001b[39mlist\u001b[39m(\u001b[39mfilter\u001b[39m(\u001b[39mNone\u001b[39;00m, format_strings))\n\u001b[1;32m--> 659\u001b[0m output_formats \u001b[39m=\u001b[39m [make_output_format(f, folder, log_suffix) \u001b[39mfor\u001b[39;49;00m f \u001b[39min\u001b[39;49;00m format_strings]\n\u001b[0;32m    661\u001b[0m logger \u001b[39m=\u001b[39m Logger(folder\u001b[39m=\u001b[39mfolder, output_formats\u001b[39m=\u001b[39moutput_formats)\n\u001b[0;32m    662\u001b[0m \u001b[39m# Only print when some files will be saved\u001b[39;00m\n",
      "File \u001b[1;32mc:\\Users\\Henrique Bidarte\\miniconda3\\Lib\\site-packages\\stable_baselines3\\common\\logger.py:659\u001b[0m, in \u001b[0;36m<listcomp>\u001b[1;34m(.0)\u001b[0m\n\u001b[0;32m    656\u001b[0m     format_strings \u001b[39m=\u001b[39m os\u001b[39m.\u001b[39mgetenv(\u001b[39m\"\u001b[39m\u001b[39mSB3_LOG_FORMAT\u001b[39m\u001b[39m\"\u001b[39m, \u001b[39m\"\u001b[39m\u001b[39mstdout,log,csv\u001b[39m\u001b[39m\"\u001b[39m)\u001b[39m.\u001b[39msplit(\u001b[39m\"\u001b[39m\u001b[39m,\u001b[39m\u001b[39m\"\u001b[39m)\n\u001b[0;32m    658\u001b[0m format_strings \u001b[39m=\u001b[39m \u001b[39mlist\u001b[39m(\u001b[39mfilter\u001b[39m(\u001b[39mNone\u001b[39;00m, format_strings))\n\u001b[1;32m--> 659\u001b[0m output_formats \u001b[39m=\u001b[39m [make_output_format(f, folder, log_suffix) \u001b[39mfor\u001b[39;00m f \u001b[39min\u001b[39;00m format_strings]\n\u001b[0;32m    661\u001b[0m logger \u001b[39m=\u001b[39m Logger(folder\u001b[39m=\u001b[39mfolder, output_formats\u001b[39m=\u001b[39moutput_formats)\n\u001b[0;32m    662\u001b[0m \u001b[39m# Only print when some files will be saved\u001b[39;00m\n",
      "File \u001b[1;32mc:\\Users\\Henrique Bidarte\\miniconda3\\Lib\\site-packages\\stable_baselines3\\common\\logger.py:465\u001b[0m, in \u001b[0;36mmake_output_format\u001b[1;34m(_format, log_dir, log_suffix)\u001b[0m\n\u001b[0;32m    463\u001b[0m     \u001b[39mreturn\u001b[39;00m CSVOutputFormat(os\u001b[39m.\u001b[39mpath\u001b[39m.\u001b[39mjoin(log_dir, \u001b[39mf\u001b[39m\u001b[39m\"\u001b[39m\u001b[39mprogress\u001b[39m\u001b[39m{\u001b[39;00mlog_suffix\u001b[39m}\u001b[39;00m\u001b[39m.csv\u001b[39m\u001b[39m\"\u001b[39m))\n\u001b[0;32m    464\u001b[0m \u001b[39melif\u001b[39;00m _format \u001b[39m==\u001b[39m \u001b[39m\"\u001b[39m\u001b[39mtensorboard\u001b[39m\u001b[39m\"\u001b[39m:\n\u001b[1;32m--> 465\u001b[0m     \u001b[39mreturn\u001b[39;00m TensorBoardOutputFormat(log_dir)\n\u001b[0;32m    466\u001b[0m \u001b[39melse\u001b[39;00m:\n\u001b[0;32m    467\u001b[0m     \u001b[39mraise\u001b[39;00m \u001b[39mValueError\u001b[39;00m(\u001b[39mf\u001b[39m\u001b[39m\"\u001b[39m\u001b[39mUnknown format specified: \u001b[39m\u001b[39m{\u001b[39;00m_format\u001b[39m}\u001b[39;00m\u001b[39m\"\u001b[39m)\n",
      "File \u001b[1;32mc:\\Users\\Henrique Bidarte\\miniconda3\\Lib\\site-packages\\stable_baselines3\\common\\logger.py:399\u001b[0m, in \u001b[0;36mTensorBoardOutputFormat.__init__\u001b[1;34m(self, folder)\u001b[0m\n\u001b[0;32m    397\u001b[0m \u001b[39mdef\u001b[39;00m \u001b[39m__init__\u001b[39m(\u001b[39mself\u001b[39m, folder: \u001b[39mstr\u001b[39m):\n\u001b[0;32m    398\u001b[0m     \u001b[39massert\u001b[39;00m SummaryWriter \u001b[39mis\u001b[39;00m \u001b[39mnot\u001b[39;00m \u001b[39mNone\u001b[39;00m, \u001b[39m\"\u001b[39m\u001b[39mtensorboard is not installed, you can use `pip install tensorboard` to do so\u001b[39m\u001b[39m\"\u001b[39m\n\u001b[1;32m--> 399\u001b[0m     \u001b[39mself\u001b[39m\u001b[39m.\u001b[39mwriter \u001b[39m=\u001b[39m SummaryWriter(log_dir\u001b[39m=\u001b[39;49mfolder)\n\u001b[0;32m    400\u001b[0m     \u001b[39mself\u001b[39m\u001b[39m.\u001b[39m_is_closed \u001b[39m=\u001b[39m \u001b[39mFalse\u001b[39;00m\n",
      "File \u001b[1;32mc:\\Users\\Henrique Bidarte\\miniconda3\\Lib\\site-packages\\torch\\utils\\tensorboard\\writer.py:243\u001b[0m, in \u001b[0;36mSummaryWriter.__init__\u001b[1;34m(self, log_dir, comment, purge_step, max_queue, flush_secs, filename_suffix)\u001b[0m\n\u001b[0;32m    240\u001b[0m \u001b[39m# Initialize the file writers, but they can be cleared out on close\u001b[39;00m\n\u001b[0;32m    241\u001b[0m \u001b[39m# and recreated later as needed.\u001b[39;00m\n\u001b[0;32m    242\u001b[0m \u001b[39mself\u001b[39m\u001b[39m.\u001b[39mfile_writer \u001b[39m=\u001b[39m \u001b[39mself\u001b[39m\u001b[39m.\u001b[39mall_writers \u001b[39m=\u001b[39m \u001b[39mNone\u001b[39;00m\n\u001b[1;32m--> 243\u001b[0m \u001b[39mself\u001b[39;49m\u001b[39m.\u001b[39;49m_get_file_writer()\n\u001b[0;32m    245\u001b[0m \u001b[39m# Create default bins for histograms, see generate_testdata.py in tensorflow/tensorboard\u001b[39;00m\n\u001b[0;32m    246\u001b[0m v \u001b[39m=\u001b[39m \u001b[39m1e-12\u001b[39m\n",
      "File \u001b[1;32mc:\\Users\\Henrique Bidarte\\miniconda3\\Lib\\site-packages\\torch\\utils\\tensorboard\\writer.py:273\u001b[0m, in \u001b[0;36mSummaryWriter._get_file_writer\u001b[1;34m(self)\u001b[0m\n\u001b[0;32m    271\u001b[0m \u001b[39m\u001b[39m\u001b[39m\"\"\"Returns the default FileWriter instance. Recreates it if closed.\"\"\"\u001b[39;00m\n\u001b[0;32m    272\u001b[0m \u001b[39mif\u001b[39;00m \u001b[39mself\u001b[39m\u001b[39m.\u001b[39mall_writers \u001b[39mis\u001b[39;00m \u001b[39mNone\u001b[39;00m \u001b[39mor\u001b[39;00m \u001b[39mself\u001b[39m\u001b[39m.\u001b[39mfile_writer \u001b[39mis\u001b[39;00m \u001b[39mNone\u001b[39;00m:\n\u001b[1;32m--> 273\u001b[0m     \u001b[39mself\u001b[39m\u001b[39m.\u001b[39mfile_writer \u001b[39m=\u001b[39m FileWriter(\n\u001b[0;32m    274\u001b[0m         \u001b[39mself\u001b[39;49m\u001b[39m.\u001b[39;49mlog_dir, \u001b[39mself\u001b[39;49m\u001b[39m.\u001b[39;49mmax_queue, \u001b[39mself\u001b[39;49m\u001b[39m.\u001b[39;49mflush_secs, \u001b[39mself\u001b[39;49m\u001b[39m.\u001b[39;49mfilename_suffix\n\u001b[0;32m    275\u001b[0m     )\n\u001b[0;32m    276\u001b[0m     \u001b[39mself\u001b[39m\u001b[39m.\u001b[39mall_writers \u001b[39m=\u001b[39m {\u001b[39mself\u001b[39m\u001b[39m.\u001b[39mfile_writer\u001b[39m.\u001b[39mget_logdir(): \u001b[39mself\u001b[39m\u001b[39m.\u001b[39mfile_writer}\n\u001b[0;32m    277\u001b[0m     \u001b[39mif\u001b[39;00m \u001b[39mself\u001b[39m\u001b[39m.\u001b[39mpurge_step \u001b[39mis\u001b[39;00m \u001b[39mnot\u001b[39;00m \u001b[39mNone\u001b[39;00m:\n",
      "File \u001b[1;32mc:\\Users\\Henrique Bidarte\\miniconda3\\Lib\\site-packages\\torch\\utils\\tensorboard\\writer.py:72\u001b[0m, in \u001b[0;36mFileWriter.__init__\u001b[1;34m(self, log_dir, max_queue, flush_secs, filename_suffix)\u001b[0m\n\u001b[0;32m     67\u001b[0m \u001b[39m# Sometimes PosixPath is passed in and we need to coerce it to\u001b[39;00m\n\u001b[0;32m     68\u001b[0m \u001b[39m# a string in all cases\u001b[39;00m\n\u001b[0;32m     69\u001b[0m \u001b[39m# TODO: See if we can remove this in the future if we are\u001b[39;00m\n\u001b[0;32m     70\u001b[0m \u001b[39m# actually the ones passing in a PosixPath\u001b[39;00m\n\u001b[0;32m     71\u001b[0m log_dir \u001b[39m=\u001b[39m \u001b[39mstr\u001b[39m(log_dir)\n\u001b[1;32m---> 72\u001b[0m \u001b[39mself\u001b[39m\u001b[39m.\u001b[39mevent_writer \u001b[39m=\u001b[39m EventFileWriter(\n\u001b[0;32m     73\u001b[0m     log_dir, max_queue, flush_secs, filename_suffix\n\u001b[0;32m     74\u001b[0m )\n",
      "File \u001b[1;32mc:\\Users\\Henrique Bidarte\\miniconda3\\Lib\\site-packages\\tensorboard\\summary\\writer\\event_file_writer.py:72\u001b[0m, in \u001b[0;36mEventFileWriter.__init__\u001b[1;34m(self, logdir, max_queue_size, flush_secs, filename_suffix)\u001b[0m\n\u001b[0;32m     57\u001b[0m \u001b[39m\u001b[39m\u001b[39m\"\"\"Creates a `EventFileWriter` and an event file to write to.\u001b[39;00m\n\u001b[0;32m     58\u001b[0m \n\u001b[0;32m     59\u001b[0m \u001b[39mOn construction the summary writer creates a new event file in `logdir`.\u001b[39;00m\n\u001b[1;32m   (...)\u001b[0m\n\u001b[0;32m     69\u001b[0m \u001b[39m    pending events and summaries to disk.\u001b[39;00m\n\u001b[0;32m     70\u001b[0m \u001b[39m\"\"\"\u001b[39;00m\n\u001b[0;32m     71\u001b[0m \u001b[39mself\u001b[39m\u001b[39m.\u001b[39m_logdir \u001b[39m=\u001b[39m logdir\n\u001b[1;32m---> 72\u001b[0m tf\u001b[39m.\u001b[39;49mio\u001b[39m.\u001b[39;49mgfile\u001b[39m.\u001b[39;49mmakedirs(logdir)\n\u001b[0;32m     73\u001b[0m \u001b[39mself\u001b[39m\u001b[39m.\u001b[39m_file_name \u001b[39m=\u001b[39m (\n\u001b[0;32m     74\u001b[0m     os\u001b[39m.\u001b[39mpath\u001b[39m.\u001b[39mjoin(\n\u001b[0;32m     75\u001b[0m         logdir,\n\u001b[1;32m   (...)\u001b[0m\n\u001b[0;32m     84\u001b[0m     \u001b[39m+\u001b[39m filename_suffix\n\u001b[0;32m     85\u001b[0m )  \u001b[39m# noqa E128\u001b[39;00m\n\u001b[0;32m     86\u001b[0m \u001b[39mself\u001b[39m\u001b[39m.\u001b[39m_general_file_writer \u001b[39m=\u001b[39m tf\u001b[39m.\u001b[39mio\u001b[39m.\u001b[39mgfile\u001b[39m.\u001b[39mGFile(\u001b[39mself\u001b[39m\u001b[39m.\u001b[39m_file_name, \u001b[39m\"\u001b[39m\u001b[39mwb\u001b[39m\u001b[39m\"\u001b[39m)\n",
      "File \u001b[1;32mc:\\Users\\Henrique Bidarte\\miniconda3\\Lib\\site-packages\\tensorflow\\python\\lib\\io\\file_io.py:513\u001b[0m, in \u001b[0;36mrecursive_create_dir_v2\u001b[1;34m(path)\u001b[0m\n\u001b[0;32m    501\u001b[0m \u001b[39m@tf_export\u001b[39m(\u001b[39m\"\u001b[39m\u001b[39mio.gfile.makedirs\u001b[39m\u001b[39m\"\u001b[39m)\n\u001b[0;32m    502\u001b[0m \u001b[39mdef\u001b[39;00m \u001b[39mrecursive_create_dir_v2\u001b[39m(path):\n\u001b[0;32m    503\u001b[0m \u001b[39m  \u001b[39m\u001b[39m\"\"\"Creates a directory and all parent/intermediate directories.\u001b[39;00m\n\u001b[0;32m    504\u001b[0m \n\u001b[0;32m    505\u001b[0m \u001b[39m  It succeeds if path already exists and is writable.\u001b[39;00m\n\u001b[1;32m   (...)\u001b[0m\n\u001b[0;32m    511\u001b[0m \u001b[39m    errors.OpError: If the operation fails.\u001b[39;00m\n\u001b[0;32m    512\u001b[0m \u001b[39m  \"\"\"\u001b[39;00m\n\u001b[1;32m--> 513\u001b[0m   _pywrap_file_io\u001b[39m.\u001b[39;49mRecursivelyCreateDir(compat\u001b[39m.\u001b[39;49mpath_to_bytes(path))\n",
      "\u001b[1;31mFailedPreconditionError\u001b[0m: c:\\Users\\Henrique Bidarte\\Documents\\Henrique\\Programação\\git\\sb3-gymnasium-samples\\test\\logs\\A2C_1 is not a directory"
     ]
    }
   ],
   "source": [
    "model = None\n",
    "\n",
    "if ALGORITHM_RENDER_MODEL is True and ALGORITHM_LOAD_MODEL is True:\n",
    "    print(MESSAGE_RENDERING_MODEL)\n",
    "\n",
    "    if ALGORITHM_LOAD_MODEL is True:\n",
    "        model = A2C.load(ALGORITHM_BEST_MODEL_NAME, env=vec_env)\n",
    "\n",
    "    for ep in range(ALGORITHM_RENDER_EPISODES):\n",
    "        obs = vec_env.reset()\n",
    "        for ep in range(ALGORITHM_RENDER_EPISODES):\n",
    "            action, _ = model.predict(obs, deterministic=False)\n",
    "            obs, rewards, dones, info = vec_env.step(action)\n",
    "            vec_env.render(ENV_RENDER_MODE)\n",
    "    vec_env.close()\n",
    "\n",
    "elif ALGORITHM_LOAD_MODEL is True:\n",
    "    print(MESSAGE_LOADING_MODEL)\n",
    "    model = A2C.load(ALGORITHM_BEST_MODEL_NAME, env=vec_env)\n",
    "    model.learn(total_timesteps=ALGORITHM_TOTAL_TIMESTEPS, callback=callback) \n",
    "\n",
    "elif ALGORITHM_NEW_MODEL is True:\n",
    "    print(MESSAGE_TRAINING_NEW_MODEL)\n",
    "    model = A2C(ALGORITHM_POLICY, vec_env, tensorboard_log = CALLBACK_LOG_DIR, verbose=VERBOSE, device=ALGORITHM_DEVICE)\n",
    "    model.learn(total_timesteps=ALGORITHM_TOTAL_TIMESTEPS, callback=callback) "
   ]
  }
 ],
 "metadata": {
  "kernelspec": {
   "display_name": "Python 3",
   "language": "python",
   "name": "python3"
  },
  "language_info": {
   "codemirror_mode": {
    "name": "ipython",
    "version": 3
   },
   "file_extension": ".py",
   "mimetype": "text/x-python",
   "name": "python",
   "nbconvert_exporter": "python",
   "pygments_lexer": "ipython3",
   "version": "3.11.5"
  }
 },
 "nbformat": 4,
 "nbformat_minor": 2
}
